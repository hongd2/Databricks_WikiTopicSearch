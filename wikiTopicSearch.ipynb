{
 "cells": [
  {
   "cell_type": "code",
   "execution_count": 1,
   "metadata": {
    "collapsed": true
   },
   "outputs": [],
   "source": [
    "%scala if (org.apache.spark.BuildInfo.sparkBranch < \"1.6\") sys.error(\"Attach this notebook to a cluster running Spark 1.6+\")"
   ]
  },
  {
   "cell_type": "code",
   "execution_count": 2,
   "metadata": {
    "collapsed": true
   },
   "outputs": [],
   "source": [
    "# Load the raw dataset stored as a CSV file\n",
    "# clickstreamRaw = sqlContext.read \\\n",
    "#   .format(\"com.databricks.spark.csv\") \\\n",
    "#   .options(header=\"true\", delimiter=\"\\t\", mode=\"PERMISSIVE\", inferSchema=\"true\") \\\n",
    "#   .load(\"dbfs:///databricks-datasets/wikipedia-datasets/data-001/clickstream/raw-uncompressed\")\n",
    "  \n",
    "# # Convert the dataset to a more efficent format to speed up our analysis\n",
    "# clickstreamRaw.write \\\n",
    "#   .mode(\"overwrite\") \\\n",
    "#   .format(\"parquet\") \\\n",
    "#   .save(\"/datasets/wiki-clickstream\")\n",
    "\n",
    "# # Load data as dataframe\n",
    "# clicks = sqlContext.read.parquet(\"/datasets/wiki-clickstream\")\n",
    "\n",
    "# # Make clicks available as a SQL table.\n",
    "# clicks.registerTempTable(\"clicks\")"
   ]
  },
  {
   "cell_type": "code",
   "execution_count": 3,
   "metadata": {
    "collapsed": true
   },
   "outputs": [],
   "source": [
    "# # ReadOnly keys\n",
    "# ACCESS_KEY = \"AAAAAAAAAAAAAAAAAAAAAA\"\n",
    "# SECRET_KEY = \"AAAAAAAAAAAAAAAAAAAAAAAAAAAAAAAAAAAAAAAAAAAAAA\"\n",
    "# ENCODED_SECRET_KEY = SECRET_KEY.replace(\"/\", \"%2F\")\n",
    "# AWS_BUCKET_NAME = \"db-wikipedia-readonly-use\"\n",
    "# MOUNT_NAME = \"wikipedia-readonly/\"\n",
    "\n",
    "# dbutils.fs.mount(\"s3a://%s:%s@%s\" % (ACCESS_KEY, ENCODED_SECRET_KEY, AWS_BUCKET_NAME), \"/mnt/%s\" % MOUNT_NAME)"
   ]
  },
  {
   "cell_type": "code",
   "execution_count": 4,
   "metadata": {
    "collapsed": true
   },
   "outputs": [],
   "source": [
    "display(dbutils.fs.ls(\"/mnt/wikipedia-readonly/clickstream_parquet/\"))"
   ]
  },
  {
   "cell_type": "code",
   "execution_count": 5,
   "metadata": {
    "collapsed": true
   },
   "outputs": [],
   "source": [
    "wikipedia_df = sqlContext.read.parquet(\"/mnt/wikipedia-readonly/en_wikipedia/march_5_2016_parquet/part-r-00000-81970a86-406e-440b-8308-5f4b74a77b60.gz.parquet\")\n",
    "clicks = sqlContext.read.parquet(\"/mnt/wikipedia-readonly/clickstream_parquet/*.gz.parquet\")\n",
    "print \"Wikidup Schema\"\n",
    "wikipedia_df.printSchema()\n",
    "print \"Clickstream Schema\"\n",
    "clicks.printSchema()"
   ]
  },
  {
   "cell_type": "code",
   "execution_count": 6,
   "metadata": {
    "collapsed": true
   },
   "outputs": [],
   "source": [
    "titleTextMapDF = wikipedia_df.select(\"id\", \"title\", \"revision.text.#VALUE\").withColumnRenamed(\"#VALUE\", \"text\")\n",
    "display(titleTextMapDF)"
   ]
  },
  {
   "cell_type": "code",
   "execution_count": 7,
   "metadata": {
    "collapsed": true
   },
   "outputs": [],
   "source": [
    "# input = ['Topic_1', 'Topic_2', ... 'Topic_n']\n",
    "# output = parquet of SQL cmd\n",
    "def createTopicParquet(topics, depth = 1):\n",
    "  rval = None\n",
    "  for cnt in xrange(depth):\n",
    "    sql_topics = ''\n",
    "    for num, t in enumerate(topics):\n",
    "      if num == 0:\n",
    "        sql_topics = sql_topics + '\"' + t + '\"' \n",
    "      else:\n",
    "        sql_topics = sql_topics + ',\"' + t + '\"'\n",
    "    result = sql(\"\"\"SELECT \n",
    "          prev_title AS src,\n",
    "          curr_title AS dest,\n",
    "          n AS count FROM clicks\n",
    "        WHERE \n",
    "          curr_title IN ( %s ) AND\n",
    "          prev_id IS NOT NULL AND NOT (curr_title = 'Main_Page' OR prev_title = 'Main_Page')\n",
    "        ORDER BY n DESC\n",
    "        LIMIT 40\"\"\" % (sql_topics)) \n",
    "    rval = rval.unionAll(result) if rval != None else result\n",
    "    topics =  result.rdd.map(lambda row : row.src).collect()\n",
    "  rval.write.parquet(\"result.parquet\", mode='overwrite')\n",
    "  return rval"
   ]
  },
  {
   "cell_type": "code",
   "execution_count": 8,
   "metadata": {
    "collapsed": true
   },
   "outputs": [],
   "source": [
    "def contain(s, v):\n",
    "  return (v != None and v.find(s) > 0)\n",
    "# Search the dump for the specified terms \n",
    "def topics_with_term(term): \n",
    "  # Search all pages for the term  \n",
    "  results_df = titleTextMapDF.filter(titleTextMapDF.text.like(\"%%%s%%\" %(term))).select(titleTextMapDF.id, titleTextMapDF.title)\n",
    "  # Map to a collection of titles\n",
    "  return results_df"
   ]
  },
  {
   "cell_type": "code",
   "execution_count": 9,
   "metadata": {
    "collapsed": true
   },
   "outputs": [],
   "source": [
    "groupedCount = clicks.groupBy(clicks.curr_id).agg({\"n\" : \"sum\"})\n",
    "clickclucks = clicks.select(clicks.curr_id, clicks.curr_title).distinct().where(clicks.curr_id!=15580374).join(groupedCount, clicks.curr_id==groupedCount.curr_id).drop(groupedCount.curr_id).sort('sum(n)', ascending=False)\n",
    "# Make clicks available as a SQL table.\n",
    "clicks.registerTempTable(\"clicks\")"
   ]
  },
  {
   "cell_type": "code",
   "execution_count": 10,
   "metadata": {
    "collapsed": true
   },
   "outputs": [],
   "source": [
    "all_topics = topics_with_term('Donald Trump')\n",
    "clicked_topics = all_topics.join(clickclucks, clickclucks.curr_id == all_topics.id).sort('sum(n)', ascending=False,).limit(10).select(clickclucks.curr_title)\n",
    "top_topics =  clicked_topics.rdd.map(lambda row : row.curr_title).collect()\n",
    "display(clicked_topics)"
   ]
  },
  {
   "cell_type": "code",
   "execution_count": 11,
   "metadata": {
    "collapsed": true
   },
   "outputs": [],
   "source": [
    "display(createTopicParquet(top_topics, 2))"
   ]
  },
  {
   "cell_type": "code",
   "execution_count": 12,
   "metadata": {
    "collapsed": true
   },
   "outputs": [],
   "source": [
    "%scala\n",
    "package d3\n",
    "// We use a package object so that we can define top level classes like Edge that need to be used in other cells\n",
    "\n",
    "import org.apache.spark.sql._\n",
    "import com.databricks.backend.daemon.driver.EnhancedRDDFunctions.displayHTML\n",
    "\n",
    "case class Edge(src: String, dest: String, count: Long)\n",
    "\n",
    "case class Node(name: String)\n",
    "case class Link(source: Int, target: Int, value: Long)\n",
    "case class Graph(nodes: Seq[Node], links: Seq[Link])\n",
    "\n",
    "object graphs {\n",
    "val sqlContext = SQLContext.getOrCreate(org.apache.spark.SparkContext.getOrCreate())  \n",
    "import sqlContext.implicits._\n",
    "  \n",
    "def force(clicks: Dataset[Edge], height: Int = 100, width: Int = 960): Unit = {\n",
    "  val data = clicks.collect()\n",
    "  val nodes = (data.map(_.src) ++ data.map(_.dest)).map(_.replaceAll(\"_\", \" \")).toSet.toSeq.map(Node)\n",
    "  val links = data.map { t =>\n",
    "    Link(nodes.indexWhere(_.name == t.src.replaceAll(\"_\", \" \")), nodes.indexWhere(_.name == t.dest.replaceAll(\"_\", \" \")), t.count / 20 + 1)\n",
    "  }\n",
    "  showGraph(height, width, Seq(Graph(nodes, links)).toDF().toJSON.first())\n",
    "}\n",
    "\n",
    "/**\n",
    " * Displays a force directed graph using d3\n",
    " * input: {\"nodes\": [{\"name\": \"...\"}], \"links\": [{\"source\": 1, \"target\": 2, \"value\": 0}]}\n",
    " */\n",
    "def showGraph(height: Int, width: Int, graph: String): Unit = {\n",
    "\n",
    "displayHTML(s\"\"\"\n",
    "<!DOCTYPE html>\n",
    "<html>\n",
    "<head>\n",
    "  <meta http-equiv=\"Content-Type\" content=\"text/html; charset=UTF-8\">\n",
    "  <title>Polish Books Themes - an Interactive Map</title>\n",
    "  <meta charset=\"utf-8\">\n",
    "<style>\n",
    "\n",
    ".node_circle {\n",
    "  stroke: #777;\n",
    "  stroke-width: 1.3px;\n",
    "}\n",
    "\n",
    ".node_label {\n",
    "  pointer-events: none;\n",
    "}\n",
    "\n",
    ".link {\n",
    "  stroke: #777;\n",
    "  stroke-opacity: .2;\n",
    "}\n",
    "\n",
    ".node_count {\n",
    "  stroke: #777;\n",
    "  stroke-width: 1.0px;\n",
    "  fill: #999;\n",
    "}\n",
    "\n",
    "text.legend {\n",
    "  font-family: Verdana;\n",
    "  font-size: 13px;\n",
    "  fill: #000;\n",
    "}\n",
    "\n",
    ".node text {\n",
    "  font-family: \"Helvetica Neue\",\"Helvetica\",\"Arial\",sans-serif;\n",
    "  font-size: 17px;\n",
    "  font-weight: 200;\n",
    "}\n",
    "\n",
    "</style>\n",
    "</head>\n",
    "\n",
    "<body>\n",
    "<script src=\"//d3js.org/d3.v3.min.js\"></script>\n",
    "<script>\n",
    "\n",
    "var graph = $graph;\n",
    "\n",
    "var width = $width,\n",
    "    height = $height;\n",
    "\n",
    "var color = d3.scale.category20();\n",
    "\n",
    "var force = d3.layout.force()\n",
    "    .charge(-700)\n",
    "    .linkDistance(180)\n",
    "    .size([width, height]);\n",
    "\n",
    "var svg = d3.select(\"body\").append(\"svg\")\n",
    "    .attr(\"width\", width)\n",
    "    .attr(\"height\", height);\n",
    "    \n",
    "force\n",
    "    .nodes(graph.nodes)\n",
    "    .links(graph.links)\n",
    "    .start();\n",
    "\n",
    "var link = svg.selectAll(\".link\")\n",
    "    .data(graph.links)\n",
    "    .enter().append(\"line\")\n",
    "    .attr(\"class\", \"link\")\n",
    "    .style(\"stroke-width\", function(d) { return Math.sqrt(d.value); });\n",
    "\n",
    "var node = svg.selectAll(\".node\")\n",
    "    .data(graph.nodes)\n",
    "    .enter().append(\"g\")\n",
    "    .attr(\"class\", \"node\")\n",
    "    .call(force.drag);\n",
    "\n",
    "node.append(\"circle\")\n",
    "    .attr(\"r\", 10)\n",
    "    .style(\"fill\", function (d) {\n",
    "    if (d.name.startsWith(\"other\")) { return color(1); } else { return color(2); };\n",
    "})\n",
    "\n",
    "node.append(\"text\")\n",
    "      .attr(\"dx\", 10)\n",
    "      .attr(\"dy\", \".35em\")\n",
    "      .text(function(d) { return d.name });\n",
    "      \n",
    "//Now we are giving the SVGs co-ordinates - the force layout is generating the co-ordinates which this code is using to update the attributes of the SVG elements\n",
    "force.on(\"tick\", function () {\n",
    "    link.attr(\"x1\", function (d) {\n",
    "        return d.source.x;\n",
    "    })\n",
    "        .attr(\"y1\", function (d) {\n",
    "        return d.source.y;\n",
    "    })\n",
    "        .attr(\"x2\", function (d) {\n",
    "        return d.target.x;\n",
    "    })\n",
    "        .attr(\"y2\", function (d) {\n",
    "        return d.target.y;\n",
    "    });\n",
    "    d3.selectAll(\"circle\").attr(\"cx\", function (d) {\n",
    "        return d.x;\n",
    "    })\n",
    "        .attr(\"cy\", function (d) {\n",
    "        return d.y;\n",
    "    });\n",
    "    d3.selectAll(\"text\").attr(\"x\", function (d) {\n",
    "        return d.x;\n",
    "    })\n",
    "        .attr(\"y\", function (d) {\n",
    "        return d.y;\n",
    "    });\n",
    "});\n",
    "</script>\n",
    "</html>\n",
    "\"\"\")\n",
    "}\n",
    "  \n",
    "  def help() = {\n",
    "displayHTML(\"\"\"\n",
    "<p>\n",
    "Produces a force-directed graph given a collection of edges of the following form:</br>\n",
    "<tt><font color=\"#a71d5d\">case class</font> <font color=\"#795da3\">Edge</font>(<font color=\"#ed6a43\">src</font>: <font color=\"#a71d5d\">String</font>, <font color=\"#ed6a43\">dest</font>: <font color=\"#a71d5d\">String</font>, <font color=\"#ed6a43\">count</font>: <font color=\"#a71d5d\">Long</font>)</tt>\n",
    "</p>\n",
    "<p>Usage:<br/>\n",
    "<tt>%scala</tt></br>\n",
    "<tt><font color=\"#a71d5d\">import</font> <font color=\"#ed6a43\">d3._</font></tt><br/>\n",
    "<tt><font color=\"#795da3\">graphs.force</font>(</br>\n",
    "&nbsp;&nbsp;<font color=\"#ed6a43\">height</font> = <font color=\"#795da3\">500</font>,<br/>\n",
    "&nbsp;&nbsp;<font color=\"#ed6a43\">width</font> = <font color=\"#795da3\">500</font>,<br/>\n",
    "&nbsp;&nbsp;<font color=\"#ed6a43\">clicks</font>: <font color=\"#795da3\">Dataset</font>[<font color=\"#795da3\">Edge</font>])</tt>\n",
    "</p>\"\"\")\n",
    "  }\n",
    "}"
   ]
  },
  {
   "cell_type": "code",
   "execution_count": 13,
   "metadata": {
    "collapsed": true
   },
   "outputs": [],
   "source": [
    "%scala\n",
    "import d3._\n",
    "\n",
    "graphs.force(\n",
    "  height = 1580,\n",
    "  width = 1420,\n",
    "  clicks = sqlContext.read.parquet(\"result.parquet\").as[Edge])"
   ]
  },
  {
   "cell_type": "code",
   "execution_count": 14,
   "metadata": {
    "collapsed": true
   },
   "outputs": [],
   "source": []
  }
 ],
 "metadata": {
  "kernelspec": {
   "display_name": "Python 3",
   "language": "python",
   "name": "python3"
  },
  "language_info": {
   "codemirror_mode": {
    "name": "ipython",
    "version": 3
   },
   "file_extension": ".py",
   "mimetype": "text/x-python",
   "name": "python",
   "nbconvert_exporter": "python",
   "pygments_lexer": "ipython3",
   "version": "3.4.4"
  },
  "name": "wikiTopicSearch",
  "notebookId": 87112
 },
 "nbformat": 4,
 "nbformat_minor": 0
}
